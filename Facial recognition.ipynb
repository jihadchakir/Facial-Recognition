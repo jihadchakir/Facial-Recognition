{
 "cells": [
  {
   "cell_type": "markdown",
   "id": "21009a4a",
   "metadata": {},
   "source": [
    "# Setup\n",
    "## Importing Dependencies "
   ]
  },
  {
   "cell_type": "code",
   "execution_count": 1,
   "id": "77d027d0",
   "metadata": {},
   "outputs": [],
   "source": [
    "# standard dependencies\n",
    "import cv2\n",
    "import os\n",
    "import random\n",
    "import numpy as np\n",
    "import matplotlib.pyplot as plt"
   ]
  },
  {
   "cell_type": "code",
   "execution_count": 2,
   "id": "81e7a22a",
   "metadata": {},
   "outputs": [],
   "source": [
    "# Siamese Neural network for one shot image Recognetion\n",
    "# import tensorflow dependencies - Functional API\n",
    "from tensorflow.keras.models import Model\n",
    "from tensorflow.keras.layers import Layer, Conv2D, Dense, MaxPooling2D, Input, Flatten\n",
    "import tensorflow as tf"
   ]
  },
  {
   "cell_type": "markdown",
   "id": "3bc93da3",
   "metadata": {},
   "source": [
    "## Create Folder Structures"
   ]
  },
  {
   "cell_type": "code",
   "execution_count": 3,
   "id": "cea9c0a0",
   "metadata": {},
   "outputs": [],
   "source": [
    "POS_PATH = os.path.join('data', 'positive')\n",
    "NEG_PATH = os.path.join('data', 'negative')\n",
    "ANC_PATH = os.path.join('data', 'anchor')"
   ]
  },
  {
   "cell_type": "code",
   "execution_count": 5,
   "id": "d97a8519",
   "metadata": {},
   "outputs": [
    {
     "ename": "FileExistsError",
     "evalue": "[WinError 183] Cannot create a file when that file already exists: 'data\\\\positive'",
     "output_type": "error",
     "traceback": [
      "\u001b[1;31m---------------------------------------------------------------------------\u001b[0m",
      "\u001b[1;31mFileExistsError\u001b[0m                           Traceback (most recent call last)",
      "\u001b[1;32m~\\AppData\\Local\\Temp\\ipykernel_4436\\1007565961.py\u001b[0m in \u001b[0;36m<module>\u001b[1;34m\u001b[0m\n\u001b[1;32m----> 1\u001b[1;33m \u001b[0mos\u001b[0m\u001b[1;33m.\u001b[0m\u001b[0mmakedirs\u001b[0m\u001b[1;33m(\u001b[0m\u001b[0mPOS_PATH\u001b[0m\u001b[1;33m)\u001b[0m\u001b[1;33m\u001b[0m\u001b[1;33m\u001b[0m\u001b[0m\n\u001b[0m\u001b[0;32m      2\u001b[0m \u001b[0mos\u001b[0m\u001b[1;33m.\u001b[0m\u001b[0mmakedirs\u001b[0m\u001b[1;33m(\u001b[0m\u001b[0mNEG_PATH\u001b[0m\u001b[1;33m)\u001b[0m\u001b[1;33m\u001b[0m\u001b[1;33m\u001b[0m\u001b[0m\n\u001b[0;32m      3\u001b[0m \u001b[0mos\u001b[0m\u001b[1;33m.\u001b[0m\u001b[0mmakedirs\u001b[0m\u001b[1;33m(\u001b[0m\u001b[0mANC_PATH\u001b[0m\u001b[1;33m)\u001b[0m\u001b[1;33m\u001b[0m\u001b[1;33m\u001b[0m\u001b[0m\n",
      "\u001b[1;32m~\\anaconda3\\lib\\os.py\u001b[0m in \u001b[0;36mmakedirs\u001b[1;34m(name, mode, exist_ok)\u001b[0m\n\u001b[0;32m    223\u001b[0m             \u001b[1;32mreturn\u001b[0m\u001b[1;33m\u001b[0m\u001b[1;33m\u001b[0m\u001b[0m\n\u001b[0;32m    224\u001b[0m     \u001b[1;32mtry\u001b[0m\u001b[1;33m:\u001b[0m\u001b[1;33m\u001b[0m\u001b[1;33m\u001b[0m\u001b[0m\n\u001b[1;32m--> 225\u001b[1;33m         \u001b[0mmkdir\u001b[0m\u001b[1;33m(\u001b[0m\u001b[0mname\u001b[0m\u001b[1;33m,\u001b[0m \u001b[0mmode\u001b[0m\u001b[1;33m)\u001b[0m\u001b[1;33m\u001b[0m\u001b[1;33m\u001b[0m\u001b[0m\n\u001b[0m\u001b[0;32m    226\u001b[0m     \u001b[1;32mexcept\u001b[0m \u001b[0mOSError\u001b[0m\u001b[1;33m:\u001b[0m\u001b[1;33m\u001b[0m\u001b[1;33m\u001b[0m\u001b[0m\n\u001b[0;32m    227\u001b[0m         \u001b[1;31m# Cannot rely on checking for EEXIST, since the operating system\u001b[0m\u001b[1;33m\u001b[0m\u001b[1;33m\u001b[0m\u001b[0m\n",
      "\u001b[1;31mFileExistsError\u001b[0m: [WinError 183] Cannot create a file when that file already exists: 'data\\\\positive'"
     ]
    }
   ],
   "source": [
    "os.makedirs(POS_PATH)\n",
    "os.makedirs(NEG_PATH)\n",
    "os.makedirs(ANC_PATH)"
   ]
  },
  {
   "cell_type": "markdown",
   "id": "5cd19bd4",
   "metadata": {},
   "source": [
    "# Collect Positives and Anchors"
   ]
  },
  {
   "cell_type": "code",
   "execution_count": 21,
   "id": "ef800b2c",
   "metadata": {},
   "outputs": [],
   "source": [
    "# extract data set\n",
    "!tar -xf lfw.tgz"
   ]
  },
  {
   "cell_type": "code",
   "execution_count": 24,
   "id": "307322c8",
   "metadata": {},
   "outputs": [],
   "source": [
    "for directory in os.listdir('lfw'):\n",
    "    for file in os.listdir(os.path.join('lfw', directory)):\n",
    "        EX_PATH = os.path.join('lfw', directory, file)\n",
    "        NEW_PATH = os.path.join(NEG_PATH, file)\n",
    "        os.replace(EX_PATH, NEW_PATH)"
   ]
  },
  {
   "cell_type": "markdown",
   "id": "3f287f54",
   "metadata": {},
   "source": [
    "## Collect Positives and Anchors classes"
   ]
  },
  {
   "cell_type": "code",
   "execution_count": 4,
   "id": "afeffe85",
   "metadata": {},
   "outputs": [],
   "source": [
    "# import uuid to generate unique names\n",
    "import uuid"
   ]
  },
  {
   "cell_type": "code",
   "execution_count": 86,
   "id": "f0232665",
   "metadata": {},
   "outputs": [],
   "source": [
    "cap = cv2.VideoCapture(0)\n",
    "\n",
    "while cap.isOpened():\n",
    "    ret, frame = cap.read()\n",
    "    \n",
    "    # cut down frame to 250x250\n",
    "    frame = frame[150:150+250, 230:230+250, :]\n",
    "    \n",
    "    # collect anchors\n",
    "    if cv2.waitKey(1) & 0XFF == ord('a'):\n",
    "        imagename = os.path.join(ANC_PATH, '{}.jpg'.format(uuid.uuid1()))\n",
    "        cv2.imwrite(imagename, frame)\n",
    "\n",
    "    #collect positives\n",
    "    if cv2.waitKey(1) & 0XFF == ord('p'):\n",
    "        imagename = os.path.join(POS_PATH, '{}.jpg'.format(uuid.uuid1()))\n",
    "        cv2.imwrite(imagename, frame)\n",
    "\n",
    "    \n",
    "    cv2.imshow('Image Collection', frame)\n",
    "    if cv2.waitKey(1) & 0XFF == ord('q'):\n",
    "        break\n",
    "        \n",
    "cap.release()\n",
    "cv2.destroyAllWindows()"
   ]
  },
  {
   "cell_type": "markdown",
   "id": "7a7195b8",
   "metadata": {},
   "source": [
    "# Load and process images"
   ]
  },
  {
   "cell_type": "markdown",
   "id": "5fbeb2b9",
   "metadata": {},
   "source": [
    "##  Image directories"
   ]
  },
  {
   "cell_type": "code",
   "execution_count": 5,
   "id": "3e7ac2cd",
   "metadata": {},
   "outputs": [],
   "source": [
    "anchor = tf.data.Dataset.list_files(ANC_PATH+'\\*.jpg').take(300)\n",
    "positive = tf.data.Dataset.list_files(POS_PATH+'\\*.jpg').take(300)\n",
    "negative = tf.data.Dataset.list_files(NEG_PATH+'\\*.jpg').take(300)"
   ]
  },
  {
   "cell_type": "code",
   "execution_count": 6,
   "id": "d25587b0",
   "metadata": {},
   "outputs": [
    {
     "data": {
      "text/plain": [
       "b'data\\\\anchor\\\\8679d467-c5e5-11ed-a418-40a3cc81915c.jpg'"
      ]
     },
     "execution_count": 6,
     "metadata": {},
     "output_type": "execute_result"
    }
   ],
   "source": [
    "dir_test = anchor.as_numpy_iterator()\n",
    "dir_test.next()"
   ]
  },
  {
   "cell_type": "markdown",
   "id": "04e96117",
   "metadata": {},
   "source": [
    "##  Preprocessing - Scale and Resize"
   ]
  },
  {
   "cell_type": "code",
   "execution_count": 7,
   "id": "c26f3a06",
   "metadata": {},
   "outputs": [],
   "source": [
    "def preprocess(file_path):\n",
    "    byte_img = tf.io.read_file(file_path)\n",
    "    img = tf.io.decode_jpeg(byte_img)\n",
    "    img = tf.image.resize(img,(100,100)) # 100x100x3\n",
    "    \n",
    "    # Scale image to be between 0 and 1\n",
    "    img = img / 255.0\n",
    "    \n",
    "    return img"
   ]
  },
  {
   "cell_type": "code",
   "execution_count": 8,
   "id": "23cc0dce",
   "metadata": {
    "scrolled": true
   },
   "outputs": [],
   "source": [
    "img = preprocess('data\\\\anchor\\\\9cba0f70-c5e5-11ed-a88d-40a3cc81915c.jpg')"
   ]
  },
  {
   "cell_type": "code",
   "execution_count": 9,
   "id": "067193d2",
   "metadata": {},
   "outputs": [
    {
     "data": {
      "text/plain": [
       "(0.0004901961, 0.9411765)"
      ]
     },
     "execution_count": 9,
     "metadata": {},
     "output_type": "execute_result"
    }
   ],
   "source": [
    "img.numpy().min(), img.numpy().max()"
   ]
  },
  {
   "cell_type": "markdown",
   "id": "ad4530ec",
   "metadata": {},
   "source": [
    "##  Create Labelled DataSet"
   ]
  },
  {
   "cell_type": "code",
   "execution_count": 10,
   "id": "ded40c32",
   "metadata": {},
   "outputs": [],
   "source": [
    "positives = tf.data.Dataset.zip((anchor, positive, tf.data.Dataset.from_tensor_slices(tf.ones(len(anchor)))))\n",
    "negatives = tf.data.Dataset.zip((anchor, negative, tf.data.Dataset.from_tensor_slices(tf.zeros(len(anchor)))))\n",
    "data = positives.concatenate(negatives)\n"
   ]
  },
  {
   "cell_type": "code",
   "execution_count": 11,
   "id": "13a62bb7",
   "metadata": {},
   "outputs": [
    {
     "data": {
      "text/plain": [
       "(b'data\\\\anchor\\\\9216b23b-c5e5-11ed-ae3d-40a3cc81915c.jpg',\n",
       " b'data\\\\positive\\\\b1e58c16-c5e5-11ed-835e-40a3cc81915c.jpg',\n",
       " 1.0)"
      ]
     },
     "execution_count": 11,
     "metadata": {},
     "output_type": "execute_result"
    }
   ],
   "source": [
    "sample = data.as_numpy_iterator()\n",
    "example = sample.next()\n",
    "example"
   ]
  },
  {
   "cell_type": "code",
   "execution_count": 12,
   "id": "2fc99f02",
   "metadata": {},
   "outputs": [],
   "source": [
    "# (anchor, positive) => 1,1,1,1,1\n",
    "# (anchor, negative) => 0,0,0,0,0"
   ]
  },
  {
   "cell_type": "markdown",
   "id": "053ff3f2",
   "metadata": {},
   "source": [
    "## Build Train and Test Partition"
   ]
  },
  {
   "cell_type": "code",
   "execution_count": 13,
   "id": "9bf227b7",
   "metadata": {},
   "outputs": [],
   "source": [
    "def preprocess_twin(input_img, validation_img, label):\n",
    "    return(preprocess(input_img), preprocess(validation_img),label)"
   ]
  },
  {
   "cell_type": "code",
   "execution_count": 14,
   "id": "8cfdb352",
   "metadata": {
    "scrolled": true
   },
   "outputs": [],
   "source": [
    "res = preprocess_twin(*example)"
   ]
  },
  {
   "cell_type": "code",
   "execution_count": 15,
   "id": "6b56ce56",
   "metadata": {},
   "outputs": [
    {
     "data": {
      "text/plain": [
       "1.0"
      ]
     },
     "execution_count": 15,
     "metadata": {},
     "output_type": "execute_result"
    }
   ],
   "source": [
    "res[2]"
   ]
  },
  {
   "cell_type": "code",
   "execution_count": 16,
   "id": "f9778b3e",
   "metadata": {},
   "outputs": [],
   "source": [
    "# Build DataLoader pipeline\n",
    "data = data.map(preprocess_twin)\n",
    "data = data.cache()\n",
    "data = data.shuffle(buffer_size=1024)"
   ]
  },
  {
   "cell_type": "code",
   "execution_count": 17,
   "id": "f922a810",
   "metadata": {},
   "outputs": [],
   "source": [
    "# Training partition\n",
    "train_data = data.take(round(len(data)*.7))\n",
    "train_data = train_data.batch(16)\n",
    "train_data = train_data.prefetch(8)"
   ]
  },
  {
   "cell_type": "code",
   "execution_count": 18,
   "id": "4ebba21f",
   "metadata": {},
   "outputs": [],
   "source": [
    "# Testing partition\n",
    "test_data = data.skip(round(len(data)*.7))\n",
    "test_data = data.take(round(len(data)*.3))\n",
    "test_data = test_data.batch(16)\n",
    "test_data = test_data.prefetch(8)"
   ]
  },
  {
   "cell_type": "markdown",
   "id": "b23b1696",
   "metadata": {},
   "source": [
    "# Model engineering"
   ]
  },
  {
   "cell_type": "markdown",
   "id": "165e6394",
   "metadata": {},
   "source": [
    "##  Build Embedding Layer"
   ]
  },
  {
   "cell_type": "code",
   "execution_count": 19,
   "id": "952f7f00",
   "metadata": {},
   "outputs": [],
   "source": [
    "def make_embedding():\n",
    "    \n",
    "    inp = Input(shape=(100,100,3), name='input_image')\n",
    "    \n",
    "    # first block\n",
    "    c1 = Conv2D(64,(10,10), activation='relu')(inp)\n",
    "    m1 = MaxPooling2D(64, (2,2), padding='same')(c1)\n",
    "    \n",
    "    # second block\n",
    "    c2 = Conv2D(128,(7,7), activation='relu')(m1)\n",
    "    m2 = MaxPooling2D(64, (2,2), padding='same')(c2)\n",
    "    \n",
    "    # third block\n",
    "    c3 = Conv2D(128,(4,4), activation='relu')(m2)\n",
    "    m3 = MaxPooling2D(64, (2,2), padding='same')(c3)\n",
    "    \n",
    "    # final embedding block\n",
    "    c4 = Conv2D(256,(4,4), activation='relu')(m3)\n",
    "    f1 = Flatten()(c4)\n",
    "    d1 = Dense(4096, activation='sigmoid')(f1)\n",
    "\n",
    "    \n",
    "    return Model(inputs = [inp], outputs = [d1], name = 'embedding')"
   ]
  },
  {
   "cell_type": "code",
   "execution_count": 20,
   "id": "22fdb157",
   "metadata": {},
   "outputs": [],
   "source": [
    "embedding = make_embedding()"
   ]
  },
  {
   "cell_type": "code",
   "execution_count": 21,
   "id": "29d8db95",
   "metadata": {},
   "outputs": [
    {
     "name": "stdout",
     "output_type": "stream",
     "text": [
      "Model: \"embedding\"\n",
      "_________________________________________________________________\n",
      "Layer (type)                 Output Shape              Param #   \n",
      "=================================================================\n",
      "input_image (InputLayer)     [(None, 100, 100, 3)]     0         \n",
      "_________________________________________________________________\n",
      "conv2d (Conv2D)              (None, 91, 91, 64)        19264     \n",
      "_________________________________________________________________\n",
      "max_pooling2d (MaxPooling2D) (None, 46, 46, 64)        0         \n",
      "_________________________________________________________________\n",
      "conv2d_1 (Conv2D)            (None, 40, 40, 128)       401536    \n",
      "_________________________________________________________________\n",
      "max_pooling2d_1 (MaxPooling2 (None, 20, 20, 128)       0         \n",
      "_________________________________________________________________\n",
      "conv2d_2 (Conv2D)            (None, 17, 17, 128)       262272    \n",
      "_________________________________________________________________\n",
      "max_pooling2d_2 (MaxPooling2 (None, 9, 9, 128)         0         \n",
      "_________________________________________________________________\n",
      "conv2d_3 (Conv2D)            (None, 6, 6, 256)         524544    \n",
      "_________________________________________________________________\n",
      "flatten (Flatten)            (None, 9216)              0         \n",
      "_________________________________________________________________\n",
      "dense (Dense)                (None, 4096)              37752832  \n",
      "=================================================================\n",
      "Total params: 38,960,448\n",
      "Trainable params: 38,960,448\n",
      "Non-trainable params: 0\n",
      "_________________________________________________________________\n"
     ]
    }
   ],
   "source": [
    "embedding.summary()"
   ]
  },
  {
   "cell_type": "markdown",
   "id": "83fcf436",
   "metadata": {},
   "source": [
    "## Build Distance Layer"
   ]
  },
  {
   "cell_type": "code",
   "execution_count": 22,
   "id": "ea2f080a",
   "metadata": {},
   "outputs": [],
   "source": [
    "class L1Dist(Layer):\n",
    "    def __init__(self, **kwargs):\n",
    "        super().__init__()\n",
    "        \n",
    "    def call(self, input_embedding, validation_embedding):\n",
    "        return tf.math.abs(input_embedding - validation_embedding)"
   ]
  },
  {
   "cell_type": "code",
   "execution_count": 23,
   "id": "0fa58c3f",
   "metadata": {},
   "outputs": [],
   "source": [
    "l1 = L1Dist()"
   ]
  },
  {
   "cell_type": "markdown",
   "id": "2a1bc449",
   "metadata": {},
   "source": [
    "##  Make Siamese Model"
   ]
  },
  {
   "cell_type": "code",
   "execution_count": 24,
   "id": "c0510723",
   "metadata": {},
   "outputs": [],
   "source": [
    "input_image =  Input(shape=(100,100,3), name='input_img')\n",
    "validation_image = Input(shape=(100,100,3), name='validation_img')"
   ]
  },
  {
   "cell_type": "code",
   "execution_count": 25,
   "id": "c2862730",
   "metadata": {},
   "outputs": [],
   "source": [
    "inp_embedding = embedding(input_image)\n",
    "val_embedding = embedding(validation_image)"
   ]
  },
  {
   "cell_type": "code",
   "execution_count": 26,
   "id": "ee8db6ac",
   "metadata": {},
   "outputs": [],
   "source": [
    "siamese_layer = L1Dist()"
   ]
  },
  {
   "cell_type": "code",
   "execution_count": 27,
   "id": "207a860a",
   "metadata": {},
   "outputs": [],
   "source": [
    "distances = siamese_layer(inp_embedding, val_embedding)"
   ]
  },
  {
   "cell_type": "code",
   "execution_count": 28,
   "id": "5b7ab31f",
   "metadata": {},
   "outputs": [
    {
     "data": {
      "text/plain": [
       "<KerasTensor: shape=(None, 1) dtype=float32 (created by layer 'dense_1')>"
      ]
     },
     "execution_count": 28,
     "metadata": {},
     "output_type": "execute_result"
    }
   ],
   "source": [
    "classifier = Dense(1, activation='sigmoid')(distances)\n",
    "classifier"
   ]
  },
  {
   "cell_type": "code",
   "execution_count": 29,
   "id": "a767f606",
   "metadata": {},
   "outputs": [],
   "source": [
    "def make_siamese_model():\n",
    "    \n",
    "    input_image =  Input(shape=(100,100,3), name='input_img')\n",
    "    validation_image = Input(shape=(100,100,3), name='validation_img')\n",
    "    \n",
    "    # combine siamese distance components\n",
    "    siamese_layer = L1Dist()\n",
    "    siamese_layer._name = 'distance'\n",
    "    distances = siamese_layer(embedding(input_image), embedding(validation_image))\n",
    "    \n",
    "    # Classification Layer\n",
    "    classifier = Dense(1, activation='sigmoid')(distances)\n",
    "    \n",
    "    return Model(inputs = [input_image, validation_image], outputs = classifier, name=\"SiameseNetwork\")"
   ]
  },
  {
   "cell_type": "code",
   "execution_count": 30,
   "id": "e8e5a927",
   "metadata": {},
   "outputs": [],
   "source": [
    "siamese_model = make_siamese_model()"
   ]
  },
  {
   "cell_type": "code",
   "execution_count": 31,
   "id": "e7bb99ae",
   "metadata": {},
   "outputs": [
    {
     "name": "stdout",
     "output_type": "stream",
     "text": [
      "Model: \"SiameseNetwork\"\n",
      "__________________________________________________________________________________________________\n",
      "Layer (type)                    Output Shape         Param #     Connected to                     \n",
      "==================================================================================================\n",
      "input_img (InputLayer)          [(None, 100, 100, 3) 0                                            \n",
      "__________________________________________________________________________________________________\n",
      "validation_img (InputLayer)     [(None, 100, 100, 3) 0                                            \n",
      "__________________________________________________________________________________________________\n",
      "embedding (Functional)          (None, 4096)         38960448    input_img[0][0]                  \n",
      "                                                                 validation_img[0][0]             \n",
      "__________________________________________________________________________________________________\n",
      "distance (L1Dist)               (None, 4096)         0           embedding[2][0]                  \n",
      "                                                                 embedding[3][0]                  \n",
      "__________________________________________________________________________________________________\n",
      "dense_2 (Dense)                 (None, 1)            4097        distance[0][0]                   \n",
      "==================================================================================================\n",
      "Total params: 38,964,545\n",
      "Trainable params: 38,964,545\n",
      "Non-trainable params: 0\n",
      "__________________________________________________________________________________________________\n"
     ]
    }
   ],
   "source": [
    "siamese_model.summary()"
   ]
  },
  {
   "cell_type": "markdown",
   "id": "29e3721c",
   "metadata": {},
   "source": [
    "# Training "
   ]
  },
  {
   "cell_type": "markdown",
   "id": "13c92a76",
   "metadata": {},
   "source": [
    "## Setup Loss and Optimizer"
   ]
  },
  {
   "cell_type": "code",
   "execution_count": 32,
   "id": "e2a8dfd9",
   "metadata": {},
   "outputs": [],
   "source": [
    "binary_cross_loss = tf.losses.BinaryCrossentropy()"
   ]
  },
  {
   "cell_type": "code",
   "execution_count": 33,
   "id": "cba178cb",
   "metadata": {},
   "outputs": [],
   "source": [
    "opt = tf.keras.optimizers.Adam(1e-4)"
   ]
  },
  {
   "cell_type": "markdown",
   "id": "785af997",
   "metadata": {},
   "source": [
    "## Checkpoints"
   ]
  },
  {
   "cell_type": "code",
   "execution_count": 34,
   "id": "89070c1a",
   "metadata": {},
   "outputs": [],
   "source": [
    "checkpoint_dir = './training_checkpoints'\n",
    "checkpoint_prefix = os.path.join(checkpoint_dir, 'ckpt')\n",
    "checkpoint = tf.train.Checkpoint(opt = opt, siamese_model = siamese_model)"
   ]
  },
  {
   "cell_type": "markdown",
   "id": "810b3fc0",
   "metadata": {},
   "source": [
    "## Train Step Function"
   ]
  },
  {
   "cell_type": "code",
   "execution_count": 35,
   "id": "97f68663",
   "metadata": {},
   "outputs": [],
   "source": [
    "test_batch = train_data.as_numpy_iterator()\n",
    "batch1 = test_batch.next()\n",
    "X = batch1[:2]\n"
   ]
  },
  {
   "cell_type": "code",
   "execution_count": 36,
   "id": "5d0876e1",
   "metadata": {},
   "outputs": [],
   "source": [
    "Y = batch1[2]"
   ]
  },
  {
   "cell_type": "code",
   "execution_count": 37,
   "id": "36aea43f",
   "metadata": {},
   "outputs": [],
   "source": [
    "@tf.function\n",
    "def train_step(batch):  \n",
    "    # Record operations\n",
    "    with tf.GradientTape() as tape:\n",
    "        # Get anchor and positive/negative image\n",
    "        x = batch[:2]\n",
    "        # Get label\n",
    "        y = batch[2]\n",
    "        \n",
    "        # Forward pass\n",
    "        yhat = siamese_model(x, training=True)\n",
    "        # Calculate loss\n",
    "        loss = binary_cross_loss(y, yhat)\n",
    "    \n",
    "    grad = tape.gradient(loss, siamese_model.trainable_variables) \n",
    "    # Calculate updated weights and apply it to siamese model\n",
    "    opt.apply_gradients(zip(grad, siamese_model.trainable_variables))\n",
    "    \n",
    "    return loss"
   ]
  },
  {
   "cell_type": "markdown",
   "id": "a5360698",
   "metadata": {},
   "source": [
    "## Trainig loop"
   ]
  },
  {
   "cell_type": "code",
   "execution_count": 38,
   "id": "33ac54f5",
   "metadata": {},
   "outputs": [],
   "source": [
    "def train(data, EPOCHS):\n",
    "    for epoch in range(1, EPOCHS+1):\n",
    "        print('\\n Epoch {}\\{}'.format(epoch, EPOCHS))\n",
    "        progbar = tf.keras.utils.Progbar(len(data))\n",
    "        \n",
    "        for idx, batch in enumerate(data):\n",
    "            train_step(batch)\n",
    "            progbar.update(idx+1)\n",
    "            \n",
    "        if epoch % 10 == 0:\n",
    "            checkpoint.save(file_prefix=checkpoint_prefix)\n",
    "        "
   ]
  },
  {
   "cell_type": "markdown",
   "id": "aa2c3188",
   "metadata": {},
   "source": [
    "## Train the model"
   ]
  },
  {
   "cell_type": "code",
   "execution_count": 41,
   "id": "cccbbb73",
   "metadata": {},
   "outputs": [],
   "source": [
    "EPOCHS = 50"
   ]
  },
  {
   "cell_type": "code",
   "execution_count": 42,
   "id": "768505cb",
   "metadata": {
    "scrolled": true
   },
   "outputs": [
    {
     "name": "stdout",
     "output_type": "stream",
     "text": [
      "\n",
      " Epoch 1\\50\n",
      "27/27 [==============================] - 1169s 43s/step\n",
      "\n",
      " Epoch 2\\50\n",
      "27/27 [==============================] - 1143s 42s/step\n",
      "\n",
      " Epoch 3\\50\n",
      "27/27 [==============================] - 1147s 42s/step\n",
      "\n",
      " Epoch 4\\50\n",
      "27/27 [==============================] - 945s 35s/step\n",
      "\n",
      " Epoch 5\\50\n",
      "27/27 [==============================] - 498s 18s/step\n",
      "\n",
      " Epoch 6\\50\n",
      "27/27 [==============================] - 498s 18s/step\n",
      "\n",
      " Epoch 7\\50\n",
      "27/27 [==============================] - 500s 18s/step\n",
      "\n",
      " Epoch 8\\50\n",
      "27/27 [==============================] - 498s 18s/step\n",
      "\n",
      " Epoch 9\\50\n",
      "27/27 [==============================] - 489s 18s/step\n",
      "\n",
      " Epoch 10\\50\n",
      "27/27 [==============================] - 476s 18s/step\n",
      "\n",
      " Epoch 11\\50\n",
      "27/27 [==============================] - 477s 18s/step\n",
      "\n",
      " Epoch 12\\50\n",
      "27/27 [==============================] - 477s 18s/step\n",
      "\n",
      " Epoch 13\\50\n",
      "27/27 [==============================] - 476s 18s/step\n",
      "\n",
      " Epoch 14\\50\n",
      "27/27 [==============================] - 477s 18s/step\n",
      "\n",
      " Epoch 15\\50\n",
      "27/27 [==============================] - 475s 18s/step\n",
      "\n",
      " Epoch 16\\50\n",
      "27/27 [==============================] - 474s 18s/step\n",
      "\n",
      " Epoch 17\\50\n",
      "27/27 [==============================] - 476s 18s/step\n",
      "\n",
      " Epoch 18\\50\n",
      "27/27 [==============================] - 474s 18s/step\n",
      "\n",
      " Epoch 19\\50\n",
      "27/27 [==============================] - 473s 17s/step\n",
      "\n",
      " Epoch 20\\50\n",
      "27/27 [==============================] - 469s 17s/step\n",
      "\n",
      " Epoch 21\\50\n",
      "27/27 [==============================] - 473s 17s/step\n",
      "\n",
      " Epoch 22\\50\n",
      "27/27 [==============================] - 469s 17s/step\n",
      "\n",
      " Epoch 23\\50\n",
      "27/27 [==============================] - 471s 17s/step\n",
      "\n",
      " Epoch 24\\50\n",
      "27/27 [==============================] - 472s 17s/step\n",
      "\n",
      " Epoch 25\\50\n",
      "27/27 [==============================] - 472s 17s/step\n",
      "\n",
      " Epoch 26\\50\n",
      "27/27 [==============================] - 470s 17s/step\n",
      "\n",
      " Epoch 27\\50\n",
      "27/27 [==============================] - 469s 17s/step\n",
      "\n",
      " Epoch 28\\50\n",
      "27/27 [==============================] - 471s 17s/step\n",
      "\n",
      " Epoch 29\\50\n",
      "27/27 [==============================] - 470s 17s/step\n",
      "\n",
      " Epoch 30\\50\n",
      "27/27 [==============================] - 471s 17s/step\n",
      "\n",
      " Epoch 31\\50\n",
      "27/27 [==============================] - 468s 17s/step\n",
      "\n",
      " Epoch 32\\50\n",
      "27/27 [==============================] - 471s 17s/step\n",
      "\n",
      " Epoch 33\\50\n",
      "27/27 [==============================] - 467s 17s/step\n",
      "\n",
      " Epoch 34\\50\n",
      "27/27 [==============================] - 471s 17s/step\n",
      "\n",
      " Epoch 35\\50\n",
      "27/27 [==============================] - 469s 17s/step\n",
      "\n",
      " Epoch 36\\50\n",
      "27/27 [==============================] - 470s 17s/step\n",
      "\n",
      " Epoch 37\\50\n",
      "27/27 [==============================] - 468s 17s/step\n",
      "\n",
      " Epoch 38\\50\n",
      "27/27 [==============================] - 469s 17s/step\n",
      "\n",
      " Epoch 39\\50\n",
      "27/27 [==============================] - 468s 17s/step\n",
      "\n",
      " Epoch 40\\50\n",
      "27/27 [==============================] - 468s 17s/step\n",
      "\n",
      " Epoch 41\\50\n",
      "27/27 [==============================] - 466s 17s/step\n",
      "\n",
      " Epoch 42\\50\n",
      "27/27 [==============================] - 471s 17s/step\n",
      "\n",
      " Epoch 43\\50\n",
      "27/27 [==============================] - 471s 17s/step\n",
      "\n",
      " Epoch 44\\50\n",
      "27/27 [==============================] - 467s 17s/step\n",
      "\n",
      " Epoch 45\\50\n",
      "27/27 [==============================] - 470s 17s/step\n",
      "\n",
      " Epoch 46\\50\n",
      "27/27 [==============================] - 467s 17s/step\n",
      "\n",
      " Epoch 47\\50\n",
      "27/27 [==============================] - 468s 17s/step\n",
      "\n",
      " Epoch 48\\50\n",
      "27/27 [==============================] - 469s 17s/step\n",
      "\n",
      " Epoch 49\\50\n",
      "27/27 [==============================] - 468s 17s/step\n",
      "\n",
      " Epoch 50\\50\n",
      "27/27 [==============================] - 467s 17s/step\n"
     ]
    }
   ],
   "source": [
    "train(train_data, EPOCHS)"
   ]
  },
  {
   "cell_type": "markdown",
   "id": "305bd9e0",
   "metadata": {},
   "source": [
    "# Evaluate Model"
   ]
  },
  {
   "cell_type": "code",
   "execution_count": 39,
   "id": "a0539255",
   "metadata": {},
   "outputs": [],
   "source": [
    "# Import metric calculations\n",
    "from tensorflow.keras.metrics import Precision, Recall\n",
    "\n",
    "# Get a batch of test data\n",
    "test_input, test_val, y_true = test_data.as_numpy_iterator().next()"
   ]
  },
  {
   "cell_type": "markdown",
   "id": "1cacfefd",
   "metadata": {},
   "source": [
    "## Prediction"
   ]
  },
  {
   "cell_type": "code",
   "execution_count": 40,
   "id": "309f24fc",
   "metadata": {},
   "outputs": [
    {
     "data": {
      "text/plain": [
       "array([[0.50055707],\n",
       "       [0.5002263 ],\n",
       "       [0.5019772 ],\n",
       "       [0.50075376],\n",
       "       [0.50042593],\n",
       "       [0.50021875],\n",
       "       [0.49969372],\n",
       "       [0.5004967 ],\n",
       "       [0.49961907],\n",
       "       [0.49958998],\n",
       "       [0.50070053],\n",
       "       [0.5015157 ],\n",
       "       [0.50006783],\n",
       "       [0.50017244],\n",
       "       [0.50039524],\n",
       "       [0.50004977]], dtype=float32)"
      ]
     },
     "execution_count": 40,
     "metadata": {},
     "output_type": "execute_result"
    }
   ],
   "source": [
    "y_hat = siamese_model.predict([test_input, test_val])\n",
    "y_hat"
   ]
  },
  {
   "cell_type": "code",
   "execution_count": 41,
   "id": "961d9368",
   "metadata": {},
   "outputs": [
    {
     "data": {
      "text/plain": [
       "[1, 1, 1, 1, 1, 1, 0, 1, 0, 0, 1, 1, 1, 1, 1, 1]"
      ]
     },
     "execution_count": 41,
     "metadata": {},
     "output_type": "execute_result"
    }
   ],
   "source": [
    "[1 if prediction > 0.5 else 0 for prediction in y_hat ]"
   ]
  },
  {
   "cell_type": "code",
   "execution_count": 42,
   "id": "32591231",
   "metadata": {},
   "outputs": [
    {
     "data": {
      "text/plain": [
       "array([0., 1., 0., 0., 0., 1., 1., 0., 1., 1., 1., 1., 1., 1., 1., 1.],\n",
       "      dtype=float32)"
      ]
     },
     "execution_count": 42,
     "metadata": {},
     "output_type": "execute_result"
    }
   ],
   "source": [
    "y_true"
   ]
  },
  {
   "cell_type": "markdown",
   "id": "540044a8",
   "metadata": {},
   "source": [
    "## Calculate Metrics"
   ]
  },
  {
   "cell_type": "code",
   "execution_count": 43,
   "id": "de622480",
   "metadata": {},
   "outputs": [
    {
     "data": {
      "text/plain": [
       "0.72727275"
      ]
     },
     "execution_count": 43,
     "metadata": {},
     "output_type": "execute_result"
    }
   ],
   "source": [
    "m = Recall() # or Precision()\n",
    "\n",
    "m.update_state(y_true, y_hat)\n",
    "m.result().numpy()"
   ]
  },
  {
   "cell_type": "markdown",
   "id": "075934c0",
   "metadata": {},
   "source": [
    "## Vizualisation Results"
   ]
  },
  {
   "cell_type": "code",
   "execution_count": 44,
   "id": "307d075b",
   "metadata": {},
   "outputs": [],
   "source": [
    "#plt.figure(figsize=(10,8))\n",
    "#plt.subplot(1,2,1)\n",
    "#plt.imshow(test_input[0])\n",
    "#plt.subplot(1,2,2)\n",
    "#plt.imshow(test_val[8])\n",
    "#plt.show()"
   ]
  },
  {
   "cell_type": "markdown",
   "id": "51652316",
   "metadata": {},
   "source": [
    "# Save Model"
   ]
  },
  {
   "cell_type": "code",
   "execution_count": 26,
   "id": "690ac286",
   "metadata": {},
   "outputs": [
    {
     "ename": "NameError",
     "evalue": "name 'siamese_model' is not defined",
     "output_type": "error",
     "traceback": [
      "\u001b[1;31m---------------------------------------------------------------------------\u001b[0m",
      "\u001b[1;31mNameError\u001b[0m                                 Traceback (most recent call last)",
      "\u001b[1;32m~\\AppData\\Local\\Temp\\ipykernel_9456\\3380685647.py\u001b[0m in \u001b[0;36m<module>\u001b[1;34m\u001b[0m\n\u001b[1;32m----> 1\u001b[1;33m \u001b[0msiamese_model\u001b[0m\u001b[1;33m.\u001b[0m\u001b[0msave\u001b[0m\u001b[1;33m(\u001b[0m\u001b[1;34m'siameseModel.h5'\u001b[0m\u001b[1;33m)\u001b[0m\u001b[1;33m\u001b[0m\u001b[1;33m\u001b[0m\u001b[0m\n\u001b[0m",
      "\u001b[1;31mNameError\u001b[0m: name 'siamese_model' is not defined"
     ]
    }
   ],
   "source": [
    "siamese_model.save('siameseModel.h5')"
   ]
  },
  {
   "cell_type": "code",
   "execution_count": 45,
   "id": "9ebbb89a",
   "metadata": {},
   "outputs": [
    {
     "name": "stdout",
     "output_type": "stream",
     "text": [
      "WARNING:tensorflow:No training configuration found in the save file, so the model was *not* compiled. Compile it manually.\n"
     ]
    }
   ],
   "source": [
    "model = tf.keras.models.load_model('siameseModel.h5', custom_objects= {'L1Dist':L1Dist, 'BinaryCrosstropy':tf.losses.BinaryCrossentropy})"
   ]
  },
  {
   "cell_type": "code",
   "execution_count": 46,
   "id": "d13a73dc",
   "metadata": {},
   "outputs": [
    {
     "data": {
      "text/plain": [
       "array([[1.1569635e-09],\n",
       "       [9.9996823e-01],\n",
       "       [2.8518587e-09],\n",
       "       [3.0154096e-10],\n",
       "       [6.8840201e-08],\n",
       "       [9.9992388e-01],\n",
       "       [1.0000000e+00],\n",
       "       [3.7865253e-09],\n",
       "       [9.9996430e-01],\n",
       "       [1.0000000e+00],\n",
       "       [9.9998623e-01],\n",
       "       [9.9973822e-01],\n",
       "       [1.0000000e+00],\n",
       "       [9.9942636e-01],\n",
       "       [9.9980456e-01],\n",
       "       [1.0000000e+00]], dtype=float32)"
      ]
     },
     "execution_count": 46,
     "metadata": {},
     "output_type": "execute_result"
    }
   ],
   "source": [
    "model.predict([test_input, test_val])"
   ]
  },
  {
   "cell_type": "code",
   "execution_count": 47,
   "id": "695bad07",
   "metadata": {},
   "outputs": [
    {
     "name": "stdout",
     "output_type": "stream",
     "text": [
      "Model: \"SiameseNetwork\"\n",
      "__________________________________________________________________________________________________\n",
      "Layer (type)                    Output Shape         Param #     Connected to                     \n",
      "==================================================================================================\n",
      "input_img (InputLayer)          [(None, 100, 100, 3) 0                                            \n",
      "__________________________________________________________________________________________________\n",
      "validation_img (InputLayer)     [(None, 100, 100, 3) 0                                            \n",
      "__________________________________________________________________________________________________\n",
      "embedding (Functional)          (None, 4096)         38960448    input_img[0][0]                  \n",
      "                                                                 validation_img[0][0]             \n",
      "__________________________________________________________________________________________________\n",
      "l1_dist_3 (L1Dist)              (None, 4096)         0           embedding[0][0]                  \n",
      "                                                                 embedding[1][0]                  \n",
      "__________________________________________________________________________________________________\n",
      "dense_2 (Dense)                 (None, 1)            4097        l1_dist_3[0][0]                  \n",
      "==================================================================================================\n",
      "Total params: 38,964,545\n",
      "Trainable params: 38,964,545\n",
      "Non-trainable params: 0\n",
      "__________________________________________________________________________________________________\n"
     ]
    }
   ],
   "source": [
    "model.summary()"
   ]
  },
  {
   "cell_type": "markdown",
   "id": "42ade143",
   "metadata": {},
   "source": [
    "#  Real Time Test"
   ]
  },
  {
   "cell_type": "markdown",
   "id": "c7ed6385",
   "metadata": {},
   "source": [
    "## Verification function"
   ]
  },
  {
   "cell_type": "code",
   "execution_count": 48,
   "id": "54d55c72",
   "metadata": {},
   "outputs": [],
   "source": [
    "def verify(model, detection_threshold, verification_threshold):\n",
    "    results = []\n",
    "    for image in os.listdir(os.path.join('application_data','verification_images')):\n",
    "        input_img = preprocess(os.path.join('application_data', 'input_image', 'input_image.jpg'))\n",
    "        validation_img = preprocess(os.path.join('application_data', 'verification_images', image))\n",
    "        result = model.predict(list(np.expand_dims([input_img, validation_img], axis=1)))\n",
    "        results.append(result) \n",
    "    detection = np.sum(np.array(results) > detection_threshold)\n",
    "    verification = detection / len(os.listdir(os.path.join('application_data', 'verification_images')))  \n",
    "    verified = verification > verification_threshold\n",
    "    \n",
    "    return results, verified"
   ]
  },
  {
   "cell_type": "markdown",
   "id": "d33ffb98",
   "metadata": {},
   "source": [
    "## Real Time Detection"
   ]
  },
  {
   "cell_type": "code",
   "execution_count": 61,
   "id": "0d629011",
   "metadata": {},
   "outputs": [
    {
     "name": "stdout",
     "output_type": "stream",
     "text": [
      "False\n",
      "True\n",
      "True\n"
     ]
    }
   ],
   "source": [
    "cap = cv2.VideoCapture(0)\n",
    "while cap.isOpened():\n",
    "    ret, frame = cap.read()\n",
    "    frame = frame[150:150+250, 230:230+250, :]\n",
    "\n",
    "    cv2.imshow('Verification', frame)\n",
    "    \n",
    "    if cv2.waitKey(10) & 0XFF == ord('v'):\n",
    "        cv2.imwrite(os.path.join('application_data', 'input_image', 'input_image.jpg'), frame)\n",
    "        results, verified = verify(model, 0.7, 0.4)\n",
    "        print(verified)\n",
    "        \n",
    "    if cv2.waitKey(10) & 0XFF == ord('q'):\n",
    "        break\n",
    "cap.release()\n",
    "cv2.destroyAllWindows()"
   ]
  },
  {
   "cell_type": "code",
   "execution_count": 52,
   "id": "6020f652",
   "metadata": {},
   "outputs": [
    {
     "data": {
      "text/plain": [
       "[array([[1.9428524e-07]], dtype=float32),\n",
       " array([[8.479886e-06]], dtype=float32),\n",
       " array([[5.58134e-06]], dtype=float32),\n",
       " array([[1.246799e-05]], dtype=float32),\n",
       " array([[2.7154689e-05]], dtype=float32),\n",
       " array([[0.9581151]], dtype=float32),\n",
       " array([[0.9581151]], dtype=float32),\n",
       " array([[0.9994899]], dtype=float32),\n",
       " array([[0.99867797]], dtype=float32),\n",
       " array([[0.99867797]], dtype=float32),\n",
       " array([[0.999027]], dtype=float32),\n",
       " array([[0.9993745]], dtype=float32),\n",
       " array([[0.99975634]], dtype=float32),\n",
       " array([[0.9992592]], dtype=float32),\n",
       " array([[0.999177]], dtype=float32),\n",
       " array([[0.00024498]], dtype=float32),\n",
       " array([[0.00068316]], dtype=float32),\n",
       " array([[0.00056511]], dtype=float32),\n",
       " array([[0.99645376]], dtype=float32),\n",
       " array([[0.99880236]], dtype=float32),\n",
       " array([[1.2279579e-06]], dtype=float32),\n",
       " array([[2.0932418e-06]], dtype=float32),\n",
       " array([[2.0932418e-06]], dtype=float32),\n",
       " array([[3.3446402e-06]], dtype=float32),\n",
       " array([[3.5176906e-06]], dtype=float32),\n",
       " array([[0.9965162]], dtype=float32),\n",
       " array([[0.99506366]], dtype=float32),\n",
       " array([[0.9915375]], dtype=float32),\n",
       " array([[0.9901279]], dtype=float32),\n",
       " array([[1.0227173e-07]], dtype=float32),\n",
       " array([[2.0643495e-06]], dtype=float32),\n",
       " array([[4.119765e-06]], dtype=float32),\n",
       " array([[1.1465585e-05]], dtype=float32),\n",
       " array([[4.934267e-05]], dtype=float32),\n",
       " array([[0.99649465]], dtype=float32),\n",
       " array([[0.99945724]], dtype=float32),\n",
       " array([[0.9987773]], dtype=float32),\n",
       " array([[0.00022629]], dtype=float32),\n",
       " array([[0.00017458]], dtype=float32),\n",
       " array([[0.9776452]], dtype=float32),\n",
       " array([[0.9924761]], dtype=float32),\n",
       " array([[0.00052053]], dtype=float32),\n",
       " array([[0.04664105]], dtype=float32),\n",
       " array([[0.00024402]], dtype=float32),\n",
       " array([[0.89291954]], dtype=float32),\n",
       " array([[0.9056025]], dtype=float32),\n",
       " array([[0.99973977]], dtype=float32),\n",
       " array([[0.9999896]], dtype=float32),\n",
       " array([[2.6837533e-05]], dtype=float32),\n",
       " array([[0.00129253]], dtype=float32)]"
      ]
     },
     "execution_count": 52,
     "metadata": {},
     "output_type": "execute_result"
    }
   ],
   "source": [
    "results"
   ]
  },
  {
   "cell_type": "code",
   "execution_count": null,
   "id": "213ab758",
   "metadata": {},
   "outputs": [],
   "source": []
  },
  {
   "cell_type": "code",
   "execution_count": null,
   "id": "1fe971cf",
   "metadata": {},
   "outputs": [],
   "source": []
  }
 ],
 "metadata": {
  "celltoolbar": "Raw Cell Format",
  "kernelspec": {
   "display_name": "Python 3 (ipykernel)",
   "language": "python",
   "name": "python3"
  },
  "language_info": {
   "codemirror_mode": {
    "name": "ipython",
    "version": 3
   },
   "file_extension": ".py",
   "mimetype": "text/x-python",
   "name": "python",
   "nbconvert_exporter": "python",
   "pygments_lexer": "ipython3",
   "version": "3.9.13"
  }
 },
 "nbformat": 4,
 "nbformat_minor": 5
}
